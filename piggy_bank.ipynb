{
 "cells": [
  {
   "cell_type": "code",
   "execution_count": 1,
   "metadata": {},
   "outputs": [
    {
     "name": "stdout",
     "output_type": "stream",
     "text": [
      "\n",
      "Start or End : start\n",
      "Add, Withdraw or Check : add\n",
      "Add amount (Note:- for every 100 rupees you will get 1 bonus points): 1000\n",
      "After adding, your balance is 1000.0 rupees and bonus points is 10\n",
      "\n",
      "\n",
      "Start or End : start\n",
      "Add, Withdraw or Check : withdraw\n",
      "Withdraw amount : 1500\n",
      "Your current balance is 1000.0 rupees and bonus points is 10\n",
      "Please enter an amount which is less than or equal to the balance amount.\n",
      "\n",
      "\n",
      "Start or End : start\n",
      "Add, Withdraw or Check : withdraw\n",
      "Withdraw amount : 1000\n",
      "After withdrawing, your balance is 0.0 rupees\n",
      "If you have money in your savings account you will get benefits like interest and bonus points.\n",
      "\n",
      "\n",
      "Start or End : start\n",
      "Add, Withdraw or Check : check\n",
      "Your current balance is 0.0 rupees and bonus points is 10\n",
      "If you have money in your savings account you will get benefits like interest and bonus points.\n",
      "\n",
      "\n",
      "Start or End : end\n",
      "\n"
     ]
    }
   ],
   "source": [
    "import piggy_bank\n",
    "pb=piggy_bank.piggy_bank()\n",
    "pb.start()"
   ]
  },
  {
   "cell_type": "code",
   "execution_count": null,
   "metadata": {},
   "outputs": [],
   "source": []
  }
 ],
 "metadata": {
  "kernelspec": {
   "display_name": "Python 3",
   "language": "python",
   "name": "python3"
  },
  "language_info": {
   "codemirror_mode": {
    "name": "ipython",
    "version": 3
   },
   "file_extension": ".py",
   "mimetype": "text/x-python",
   "name": "python",
   "nbconvert_exporter": "python",
   "pygments_lexer": "ipython3",
   "version": "3.6.5"
  }
 },
 "nbformat": 4,
 "nbformat_minor": 2
}
